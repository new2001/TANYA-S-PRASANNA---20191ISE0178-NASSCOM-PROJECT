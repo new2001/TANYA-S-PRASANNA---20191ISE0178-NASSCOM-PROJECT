{
  "nbformat": 4,
  "nbformat_minor": 0,
  "metadata": {
    "colab": {
      "name": "CAESAR CIPHER.ipynb",
      "provenance": [],
      "collapsed_sections": []
    },
    "kernelspec": {
      "name": "python3",
      "display_name": "Python 3"
    },
    "language_info": {
      "name": "python"
    }
  },
  "cells": [
    {
      "cell_type": "code",
      "metadata": {
        "colab": {
          "base_uri": "https://localhost:8080/",
          "height": 52
        },
        "id": "Xr3tFOAAJ-3u",
        "outputId": "37d0a1ba-fea9-4377-de5b-66a83db27b80"
      },
      "source": [
        "#CAESAR CIPHER FOR ENCRYPTION AND DECRYPTION IN CYBERSECURITY\n",
        "def encrypt_char(char, key):\n",
        "    return chr(ord('A') + (ord(char) - ord('A') + key) % 26)\n",
        "    def encrypt_msg(msg, key):\n",
        "     msg = msg.upper()\n",
        "    cipher = ''\n",
        "    for char in msg:\n",
        "        if char not in ' ,.':\n",
        "            cipher += encrypt_char(char, key)\n",
        "        else:\n",
        "            cipher += char\n",
        "    return cipher\n",
        "   \n",
        "    encrypt_msg(\"Hello I am Tanya Prasanna\", 3)\n",
        "    \n",
        "def decrypt_char(char, key):\n",
        "   return chr(ord('A') + (ord(char) - ord('A') + 26 - key) % 26)\n",
        "\n",
        "def decrypt_msg(cipher, key):\n",
        "    cipher = cipher.upper()\n",
        "    msg = ''\n",
        "    for char in cipher:\n",
        "        if char not in ' ,.':\n",
        "            msg += decrypt_char(char, key)\n",
        "        else:\n",
        "            msg += char\n",
        "    return msg\n",
        "print('The decrypted message using Caesar Cipher implementation is:')\n",
        "decrypt_msg('KHOOR L DP WDQBD SUDVDQQD.', 3)"
      ],
      "execution_count": 1,
      "outputs": [
        {
          "output_type": "stream",
          "name": "stdout",
          "text": [
            "The decrypted message using Caesar Cipher implementation is:\n"
          ]
        },
        {
          "output_type": "execute_result",
          "data": {
            "application/vnd.google.colaboratory.intrinsic+json": {
              "type": "string"
            },
            "text/plain": [
              "'HELLO I AM TANYA PRASANNA.'"
            ]
          },
          "metadata": {},
          "execution_count": 1
        }
      ]
    }
  ]
}